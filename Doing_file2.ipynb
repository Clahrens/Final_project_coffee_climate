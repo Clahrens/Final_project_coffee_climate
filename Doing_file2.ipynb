{
  "cells": [
    {
      "cell_type": "markdown",
      "metadata": {
        "id": "le6QYIl8mRwd"
      },
      "source": [
        "## MGT-499 Statistics and Data Science - Koala"
      ]
    },
    {
      "cell_type": "markdown",
      "metadata": {
        "id": "miSAsBh_mUBF"
      },
      "source": [
        "Coffee is a beverage that is enjoyed by millions of people around the world. It is not only a tasty and invigorating drink, but also a cultural phenomenon that has its own rituals and lifestyles associated with it. From the rich, full-bodied aroma of a freshly brewed cup of coffee to the satisfying feeling of sipping a warm beverage on a cold morning, there are many reasons why coffee is such a pleasure. A large number of people we know drink coffee, whether it's in the morning at IMD to start their day or late at night in the library to finish a Statistics and Data Science assignment. Personally, we enjoy it, and we're sure we're not alone. Unfortunately, obtaining a cup of coffee will become more difficult and costly in the near future. Coffee is one of the crops threatened by climate change.\n",
        "\n",
        "Global warming, deforestation, illness, and pests are all contributing to the loss, and scientists warn that if conservation, monitoring, and seed preservation measures are not implemented, one of the world's most beloved drinks may become extinct. Beyond the environmental consequences, coffee is a $70-billion-a-year industry that is primarily supplied by small-scale farms in Africa, Asia and Latin America. Not only is the supply chain jeopardized, but so are the livelihoods of the estimated 25 million farmers who rely on coffee for a living. Furthermore, countries that rely on coffee as a key economic sector may witness a large reduction in their GDP numbers year after year.\n",
        "\n",
        "But, **what is the impact of climate change on coffee production ?** \n",
        "\n",
        "In this project, we will answer this question using Python and datasets of the production, consumption, and price of coffee from 1990 to 2018. The dataset is from the International Coffee Organization (ICO). We will also use The Quality of Government Institute Standard Dataset. The QoG is a dataset made by experts on public administration around the world. It is available in an individual dataset and an aggregated dataset covering more than 100 countries. It contains historical temperature and rainfall data as well many other environmental indicators."
      ]
    },
    {
      "cell_type": "code",
      "execution_count": null,
      "metadata": {
        "colab": {
          "base_uri": "https://localhost:8080/"
        },
        "id": "sYBdkm2utJ-y",
        "outputId": "b5ac26e7-096a-4cbf-c30a-ab0c72afdb7d"
      },
      "outputs": [
        {
          "name": "stdout",
          "output_type": "stream",
          "text": [
            "Looking in indexes: https://pypi.org/simple, https://us-python.pkg.dev/colab-wheels/public/simple/\n",
            "Collecting chart_studio\n",
            "  Downloading chart_studio-1.1.0-py3-none-any.whl (64 kB)\n",
            "\u001b[?25l\r\u001b[K     |█████                           | 10 kB 30.0 MB/s eta 0:00:01\r\u001b[K     |██████████▏                     | 20 kB 37.2 MB/s eta 0:00:01\r\u001b[K     |███████████████▎                | 30 kB 37.4 MB/s eta 0:00:01\r\u001b[K     |████████████████████▍           | 40 kB 34.2 MB/s eta 0:00:01\r\u001b[K     |█████████████████████████▍      | 51 kB 31.4 MB/s eta 0:00:01\r\u001b[K     |██████████████████████████████▌ | 61 kB 34.6 MB/s eta 0:00:01\r\u001b[K     |████████████████████████████████| 64 kB 1.5 MB/s \n",
            "\u001b[?25hRequirement already satisfied: requests in /usr/local/lib/python3.8/dist-packages (from chart_studio) (2.23.0)\n",
            "Requirement already satisfied: plotly in /usr/local/lib/python3.8/dist-packages (from chart_studio) (5.5.0)\n",
            "Requirement already satisfied: six in /usr/local/lib/python3.8/dist-packages (from chart_studio) (1.15.0)\n",
            "Collecting retrying>=1.3.3\n",
            "  Downloading retrying-1.3.4-py3-none-any.whl (11 kB)\n",
            "Requirement already satisfied: tenacity>=6.2.0 in /usr/local/lib/python3.8/dist-packages (from plotly->chart_studio) (8.1.0)\n",
            "Requirement already satisfied: idna<3,>=2.5 in /usr/local/lib/python3.8/dist-packages (from requests->chart_studio) (2.10)\n",
            "Requirement already satisfied: certifi>=2017.4.17 in /usr/local/lib/python3.8/dist-packages (from requests->chart_studio) (2022.9.24)\n",
            "Requirement already satisfied: urllib3!=1.25.0,!=1.25.1,<1.26,>=1.21.1 in /usr/local/lib/python3.8/dist-packages (from requests->chart_studio) (1.24.3)\n",
            "Requirement already satisfied: chardet<4,>=3.0.2 in /usr/local/lib/python3.8/dist-packages (from requests->chart_studio) (3.0.4)\n",
            "Installing collected packages: retrying, chart-studio\n",
            "Successfully installed chart-studio-1.1.0 retrying-1.3.4\n"
          ]
        }
      ],
      "source": [
        "%pip install chart_studio"
      ]
    },
    {
      "cell_type": "code",
      "execution_count": null,
      "metadata": {
        "colab": {
          "base_uri": "https://localhost:8080/"
        },
        "id": "YTcbaDfgmTBR",
        "outputId": "a665d446-2828-41f7-834f-1e4275a33b02"
      },
      "outputs": [
        {
          "name": "stdout",
          "output_type": "stream",
          "text": [
            "Looking in indexes: https://pypi.org/simple, https://us-python.pkg.dev/colab-wheels/public/simple/\n",
            "Collecting chart_studio\n",
            "  Downloading chart_studio-1.1.0-py3-none-any.whl (64 kB)\n",
            "\u001b[K     |████████████████████████████████| 64 kB 1.1 MB/s \n",
            "\u001b[?25hCollecting retrying>=1.3.3\n",
            "  Downloading retrying-1.3.4-py3-none-any.whl (11 kB)\n",
            "Requirement already satisfied: six in /usr/local/lib/python3.8/dist-packages (from chart_studio) (1.15.0)\n",
            "Requirement already satisfied: plotly in /usr/local/lib/python3.8/dist-packages (from chart_studio) (5.5.0)\n",
            "Requirement already satisfied: requests in /usr/local/lib/python3.8/dist-packages (from chart_studio) (2.23.0)\n",
            "Requirement already satisfied: tenacity>=6.2.0 in /usr/local/lib/python3.8/dist-packages (from plotly->chart_studio) (8.1.0)\n",
            "Requirement already satisfied: urllib3!=1.25.0,!=1.25.1,<1.26,>=1.21.1 in /usr/local/lib/python3.8/dist-packages (from requests->chart_studio) (1.24.3)\n",
            "Requirement already satisfied: chardet<4,>=3.0.2 in /usr/local/lib/python3.8/dist-packages (from requests->chart_studio) (3.0.4)\n",
            "Requirement already satisfied: certifi>=2017.4.17 in /usr/local/lib/python3.8/dist-packages (from requests->chart_studio) (2022.9.24)\n",
            "Requirement already satisfied: idna<3,>=2.5 in /usr/local/lib/python3.8/dist-packages (from requests->chart_studio) (2.10)\n",
            "Installing collected packages: retrying, chart-studio\n",
            "Successfully installed chart-studio-1.1.0 retrying-1.3.4\n"
          ]
        }
      ],
      "source": [
        "# Import here what you need\n",
        "import pandas as pd\n",
        "import numpy as np\n",
        "import matplotlib.pyplot as plt\n",
        "import plotly.express as px\n",
        "from plotly.subplots import make_subplots\n",
        "import plotly.graph_objects as go\n",
        "!pip install chart_studio\n",
        "import chart_studio.plotly as py\n",
        "import json\n",
        "import plotly\n",
        "from plotly.offline import iplot"
      ]
    },
    {
      "cell_type": "markdown",
      "metadata": {
        "id": "KYLQcDPR9f_y"
      },
      "source": [
        "\n"
      ]
    },
    {
      "cell_type": "markdown",
      "metadata": {
        "id": "otjUttjjms-b"
      },
      "source": [
        "## Coffee Production"
      ]
    },
    {
      "cell_type": "markdown",
      "metadata": {
        "id": "3HpmMKGbmz1F"
      },
      "source": [
        "### Data Import"
      ]
    },
    {
      "cell_type": "code",
      "execution_count": null,
      "metadata": {
        "colab": {
          "base_uri": "https://localhost:8080/"
        },
        "id": "h5tnrelznFIR",
        "outputId": "0c41e340-0ea7-409d-ae59-73b04d6e8f7f"
      },
      "outputs": [
        {
          "name": "stdout",
          "output_type": "stream",
          "text": [
            "Mounted at /content/drive\n"
          ]
        }
      ],
      "source": [
        "from google.colab import drive\n",
        "drive.mount('/content/drive')"
      ]
    },
    {
      "cell_type": "code",
      "execution_count": null,
      "metadata": {
        "colab": {
          "base_uri": "https://localhost:8080/",
          "height": 397
        },
        "id": "NKOo1kqzmiSB",
        "outputId": "751afda0-0ce6-4c79-862f-a764e0c8ceaa"
      },
      "outputs": [
        {
          "ename": "FileNotFoundError",
          "evalue": "ignored",
          "output_type": "error",
          "traceback": [
            "\u001b[0;31m---------------------------------------------------------------------------\u001b[0m",
            "\u001b[0;31mFileNotFoundError\u001b[0m                         Traceback (most recent call last)",
            "\u001b[0;32m<ipython-input-4-4bdd8feb44e1>\u001b[0m in \u001b[0;36m<module>\u001b[0;34m\u001b[0m\n\u001b[0;32m----> 1\u001b[0;31m \u001b[0mcoffee_production\u001b[0m \u001b[0;34m=\u001b[0m \u001b[0mpd\u001b[0m\u001b[0;34m.\u001b[0m\u001b[0mread_excel\u001b[0m\u001b[0;34m(\u001b[0m\u001b[0;34m'/content/drive/MyDrive/Impacts of climate change on coffee/Database/Coffee Data/1a - Total production.xlsx'\u001b[0m\u001b[0;34m,\u001b[0m \u001b[0mheader\u001b[0m \u001b[0;34m=\u001b[0m \u001b[0;36m3\u001b[0m\u001b[0;34m)\u001b[0m\u001b[0;34m\u001b[0m\u001b[0;34m\u001b[0m\u001b[0m\n\u001b[0m\u001b[1;32m      2\u001b[0m \u001b[0mcoffee_production\u001b[0m\u001b[0;34m.\u001b[0m\u001b[0mhead\u001b[0m\u001b[0;34m(\u001b[0m\u001b[0;36m10\u001b[0m\u001b[0;34m)\u001b[0m\u001b[0;34m\u001b[0m\u001b[0;34m\u001b[0m\u001b[0m\n",
            "\u001b[0;32m/usr/local/lib/python3.8/dist-packages/pandas/util/_decorators.py\u001b[0m in \u001b[0;36mwrapper\u001b[0;34m(*args, **kwargs)\u001b[0m\n\u001b[1;32m    309\u001b[0m                     \u001b[0mstacklevel\u001b[0m\u001b[0;34m=\u001b[0m\u001b[0mstacklevel\u001b[0m\u001b[0;34m,\u001b[0m\u001b[0;34m\u001b[0m\u001b[0;34m\u001b[0m\u001b[0m\n\u001b[1;32m    310\u001b[0m                 )\n\u001b[0;32m--> 311\u001b[0;31m             \u001b[0;32mreturn\u001b[0m \u001b[0mfunc\u001b[0m\u001b[0;34m(\u001b[0m\u001b[0;34m*\u001b[0m\u001b[0margs\u001b[0m\u001b[0;34m,\u001b[0m \u001b[0;34m**\u001b[0m\u001b[0mkwargs\u001b[0m\u001b[0;34m)\u001b[0m\u001b[0;34m\u001b[0m\u001b[0;34m\u001b[0m\u001b[0m\n\u001b[0m\u001b[1;32m    312\u001b[0m \u001b[0;34m\u001b[0m\u001b[0m\n\u001b[1;32m    313\u001b[0m         \u001b[0;32mreturn\u001b[0m \u001b[0mwrapper\u001b[0m\u001b[0;34m\u001b[0m\u001b[0;34m\u001b[0m\u001b[0m\n",
            "\u001b[0;32m/usr/local/lib/python3.8/dist-packages/pandas/io/excel/_base.py\u001b[0m in \u001b[0;36mread_excel\u001b[0;34m(io, sheet_name, header, names, index_col, usecols, squeeze, dtype, engine, converters, true_values, false_values, skiprows, nrows, na_values, keep_default_na, na_filter, verbose, parse_dates, date_parser, thousands, comment, skipfooter, convert_float, mangle_dupe_cols, storage_options)\u001b[0m\n\u001b[1;32m    362\u001b[0m     \u001b[0;32mif\u001b[0m \u001b[0;32mnot\u001b[0m \u001b[0misinstance\u001b[0m\u001b[0;34m(\u001b[0m\u001b[0mio\u001b[0m\u001b[0;34m,\u001b[0m \u001b[0mExcelFile\u001b[0m\u001b[0;34m)\u001b[0m\u001b[0;34m:\u001b[0m\u001b[0;34m\u001b[0m\u001b[0;34m\u001b[0m\u001b[0m\n\u001b[1;32m    363\u001b[0m         \u001b[0mshould_close\u001b[0m \u001b[0;34m=\u001b[0m \u001b[0;32mTrue\u001b[0m\u001b[0;34m\u001b[0m\u001b[0;34m\u001b[0m\u001b[0m\n\u001b[0;32m--> 364\u001b[0;31m         \u001b[0mio\u001b[0m \u001b[0;34m=\u001b[0m \u001b[0mExcelFile\u001b[0m\u001b[0;34m(\u001b[0m\u001b[0mio\u001b[0m\u001b[0;34m,\u001b[0m \u001b[0mstorage_options\u001b[0m\u001b[0;34m=\u001b[0m\u001b[0mstorage_options\u001b[0m\u001b[0;34m,\u001b[0m \u001b[0mengine\u001b[0m\u001b[0;34m=\u001b[0m\u001b[0mengine\u001b[0m\u001b[0;34m)\u001b[0m\u001b[0;34m\u001b[0m\u001b[0;34m\u001b[0m\u001b[0m\n\u001b[0m\u001b[1;32m    365\u001b[0m     \u001b[0;32melif\u001b[0m \u001b[0mengine\u001b[0m \u001b[0;32mand\u001b[0m \u001b[0mengine\u001b[0m \u001b[0;34m!=\u001b[0m \u001b[0mio\u001b[0m\u001b[0;34m.\u001b[0m\u001b[0mengine\u001b[0m\u001b[0;34m:\u001b[0m\u001b[0;34m\u001b[0m\u001b[0;34m\u001b[0m\u001b[0m\n\u001b[1;32m    366\u001b[0m         raise ValueError(\n",
            "\u001b[0;32m/usr/local/lib/python3.8/dist-packages/pandas/io/excel/_base.py\u001b[0m in \u001b[0;36m__init__\u001b[0;34m(self, path_or_buffer, engine, storage_options)\u001b[0m\n\u001b[1;32m   1189\u001b[0m                 \u001b[0mext\u001b[0m \u001b[0;34m=\u001b[0m \u001b[0;34m\"xls\"\u001b[0m\u001b[0;34m\u001b[0m\u001b[0;34m\u001b[0m\u001b[0m\n\u001b[1;32m   1190\u001b[0m             \u001b[0;32melse\u001b[0m\u001b[0;34m:\u001b[0m\u001b[0;34m\u001b[0m\u001b[0;34m\u001b[0m\u001b[0m\n\u001b[0;32m-> 1191\u001b[0;31m                 ext = inspect_excel_format(\n\u001b[0m\u001b[1;32m   1192\u001b[0m                     \u001b[0mcontent_or_path\u001b[0m\u001b[0;34m=\u001b[0m\u001b[0mpath_or_buffer\u001b[0m\u001b[0;34m,\u001b[0m \u001b[0mstorage_options\u001b[0m\u001b[0;34m=\u001b[0m\u001b[0mstorage_options\u001b[0m\u001b[0;34m\u001b[0m\u001b[0;34m\u001b[0m\u001b[0m\n\u001b[1;32m   1193\u001b[0m                 )\n",
            "\u001b[0;32m/usr/local/lib/python3.8/dist-packages/pandas/io/excel/_base.py\u001b[0m in \u001b[0;36minspect_excel_format\u001b[0;34m(content_or_path, storage_options)\u001b[0m\n\u001b[1;32m   1068\u001b[0m         \u001b[0mcontent_or_path\u001b[0m \u001b[0;34m=\u001b[0m \u001b[0mBytesIO\u001b[0m\u001b[0;34m(\u001b[0m\u001b[0mcontent_or_path\u001b[0m\u001b[0;34m)\u001b[0m\u001b[0;34m\u001b[0m\u001b[0;34m\u001b[0m\u001b[0m\n\u001b[1;32m   1069\u001b[0m \u001b[0;34m\u001b[0m\u001b[0m\n\u001b[0;32m-> 1070\u001b[0;31m     with get_handle(\n\u001b[0m\u001b[1;32m   1071\u001b[0m         \u001b[0mcontent_or_path\u001b[0m\u001b[0;34m,\u001b[0m \u001b[0;34m\"rb\"\u001b[0m\u001b[0;34m,\u001b[0m \u001b[0mstorage_options\u001b[0m\u001b[0;34m=\u001b[0m\u001b[0mstorage_options\u001b[0m\u001b[0;34m,\u001b[0m \u001b[0mis_text\u001b[0m\u001b[0;34m=\u001b[0m\u001b[0;32mFalse\u001b[0m\u001b[0;34m\u001b[0m\u001b[0;34m\u001b[0m\u001b[0m\n\u001b[1;32m   1072\u001b[0m     ) as handle:\n",
            "\u001b[0;32m/usr/local/lib/python3.8/dist-packages/pandas/io/common.py\u001b[0m in \u001b[0;36mget_handle\u001b[0;34m(path_or_buf, mode, encoding, compression, memory_map, is_text, errors, storage_options)\u001b[0m\n\u001b[1;32m    709\u001b[0m         \u001b[0;32melse\u001b[0m\u001b[0;34m:\u001b[0m\u001b[0;34m\u001b[0m\u001b[0;34m\u001b[0m\u001b[0m\n\u001b[1;32m    710\u001b[0m             \u001b[0;31m# Binary mode\u001b[0m\u001b[0;34m\u001b[0m\u001b[0;34m\u001b[0m\u001b[0;34m\u001b[0m\u001b[0m\n\u001b[0;32m--> 711\u001b[0;31m             \u001b[0mhandle\u001b[0m \u001b[0;34m=\u001b[0m \u001b[0mopen\u001b[0m\u001b[0;34m(\u001b[0m\u001b[0mhandle\u001b[0m\u001b[0;34m,\u001b[0m \u001b[0mioargs\u001b[0m\u001b[0;34m.\u001b[0m\u001b[0mmode\u001b[0m\u001b[0;34m)\u001b[0m\u001b[0;34m\u001b[0m\u001b[0;34m\u001b[0m\u001b[0m\n\u001b[0m\u001b[1;32m    712\u001b[0m         \u001b[0mhandles\u001b[0m\u001b[0;34m.\u001b[0m\u001b[0mappend\u001b[0m\u001b[0;34m(\u001b[0m\u001b[0mhandle\u001b[0m\u001b[0;34m)\u001b[0m\u001b[0;34m\u001b[0m\u001b[0;34m\u001b[0m\u001b[0m\n\u001b[1;32m    713\u001b[0m \u001b[0;34m\u001b[0m\u001b[0m\n",
            "\u001b[0;31mFileNotFoundError\u001b[0m: [Errno 2] No such file or directory: '/content/drive/MyDrive/Impacts of climate change on coffee/Database/Coffee Data/1a - Total production.xlsx'"
          ]
        }
      ],
      "source": [
        "coffee_production = pd.read_excel('/content/drive/MyDrive/Impacts of climate change on coffee/Database/Coffee Data/1a - Total production.xlsx', header = 3)\n",
        "coffee_production.head(10)"
      ]
    },
    {
      "cell_type": "code",
      "execution_count": null,
      "metadata": {
        "colab": {
          "base_uri": "https://localhost:8080/",
          "height": 189
        },
        "id": "MeO37EaJpqKV",
        "outputId": "d65d1104-f61f-45a9-dd97-1973a87a6d90"
      },
      "outputs": [
        {
          "ename": "NameError",
          "evalue": "ignored",
          "output_type": "error",
          "traceback": [
            "\u001b[0;31m---------------------------------------------------------------------------\u001b[0m",
            "\u001b[0;31mNameError\u001b[0m                                 Traceback (most recent call last)",
            "\u001b[0;32m<ipython-input-20-2a96af7758a2>\u001b[0m in \u001b[0;36m<module>\u001b[0;34m\u001b[0m\n\u001b[1;32m      1\u001b[0m \u001b[0;31m# display the data types\u001b[0m\u001b[0;34m\u001b[0m\u001b[0;34m\u001b[0m\u001b[0;34m\u001b[0m\u001b[0m\n\u001b[0;32m----> 2\u001b[0;31m \u001b[0mprint\u001b[0m\u001b[0;34m(\u001b[0m\u001b[0mcoffee_production\u001b[0m\u001b[0;34m.\u001b[0m\u001b[0mdtypes\u001b[0m\u001b[0;34m.\u001b[0m\u001b[0munique\u001b[0m\u001b[0;34m(\u001b[0m\u001b[0;34m)\u001b[0m\u001b[0;34m)\u001b[0m\u001b[0;34m\u001b[0m\u001b[0;34m\u001b[0m\u001b[0m\n\u001b[0m",
            "\u001b[0;31mNameError\u001b[0m: name 'coffee_production' is not defined"
          ]
        }
      ],
      "source": [
        "# display the data types\n",
        "print(coffee_production.dtypes.unique())"
      ]
    },
    {
      "cell_type": "markdown",
      "metadata": {
        "id": "3fNRkX1sp0h7"
      },
      "source": [
        "### Data Preparation"
      ]
    },
    {
      "cell_type": "markdown",
      "metadata": {
        "id": "xmNXyYwZp3Km"
      },
      "source": [
        "The data needs to be cleaned prior to the analysis and visualization.\n",
        "\n",
        "For the production data, we are going to reformat the dataset, remove some rows that are not in our interest and also modify the unit of the data. The unit from the source is a thousand 60kg bags, we are going to change it to a more common unit like tons."
      ]
    },
    {
      "cell_type": "code",
      "execution_count": null,
      "metadata": {
        "colab": {
          "base_uri": "https://localhost:8080/",
          "height": 244
        },
        "id": "8Stz1CQMp17N",
        "outputId": "2a35cf6a-ff44-421e-d72d-1e5adfb24991"
      },
      "outputs": [
        {
          "ename": "NameError",
          "evalue": "ignored",
          "output_type": "error",
          "traceback": [
            "\u001b[0;31m---------------------------------------------------------------------------\u001b[0m",
            "\u001b[0;31mNameError\u001b[0m                                 Traceback (most recent call last)",
            "\u001b[0;32m<ipython-input-8-dc2c485b6aeb>\u001b[0m in \u001b[0;36m<module>\u001b[0;34m\u001b[0m\n\u001b[1;32m      1\u001b[0m \u001b[0;31m# drop of a blank column in the dataframe\u001b[0m\u001b[0;34m\u001b[0m\u001b[0;34m\u001b[0m\u001b[0;34m\u001b[0m\u001b[0m\n\u001b[0;32m----> 2\u001b[0;31m \u001b[0mcoffee_production\u001b[0m\u001b[0;34m.\u001b[0m\u001b[0mdrop\u001b[0m\u001b[0;34m(\u001b[0m\u001b[0;34m'Unnamed: 1'\u001b[0m\u001b[0;34m,\u001b[0m \u001b[0maxis\u001b[0m\u001b[0;34m=\u001b[0m\u001b[0;36m1\u001b[0m\u001b[0;34m,\u001b[0m\u001b[0minplace\u001b[0m\u001b[0;34m=\u001b[0m\u001b[0;32mTrue\u001b[0m\u001b[0;34m)\u001b[0m\u001b[0;34m\u001b[0m\u001b[0;34m\u001b[0m\u001b[0m\n\u001b[0m\u001b[1;32m      3\u001b[0m \u001b[0;31m# drop the nan rows\u001b[0m\u001b[0;34m\u001b[0m\u001b[0;34m\u001b[0m\u001b[0;34m\u001b[0m\u001b[0m\n\u001b[1;32m      4\u001b[0m \u001b[0mcoffee_production\u001b[0m\u001b[0;34m.\u001b[0m\u001b[0mdropna\u001b[0m\u001b[0;34m(\u001b[0m\u001b[0minplace\u001b[0m\u001b[0;34m=\u001b[0m\u001b[0;32mTrue\u001b[0m\u001b[0;34m)\u001b[0m\u001b[0;34m\u001b[0m\u001b[0;34m\u001b[0m\u001b[0m\n\u001b[1;32m      5\u001b[0m \u001b[0;31m# rename the column for correct format\u001b[0m\u001b[0;34m\u001b[0m\u001b[0;34m\u001b[0m\u001b[0;34m\u001b[0m\u001b[0m\n",
            "\u001b[0;31mNameError\u001b[0m: name 'coffee_production' is not defined"
          ]
        }
      ],
      "source": [
        "# drop of a blank column in the dataframe\n",
        "coffee_production.drop('Unnamed: 1', axis=1,inplace=True)\n",
        "# drop the nan rows\n",
        "coffee_production.dropna(inplace=True)\n",
        "# rename the column for correct format\n",
        "coffee_production.rename(columns={'Crop year':'Country'}, inplace=True)\n",
        "# setting of the index by the country column\n",
        "coffee_production.set_index('Country',inplace=True)\n",
        "# removal of the / of each column and preserving just the first year.\n",
        "coffee_production.rename(columns=lambda x: x[:4], inplace=True)\n",
        "# remove some rows that are either all 0 or not valueable for us. \n",
        "coffee_production.drop(['April group', 'October group','July group', 'Equatorial Guinea'], inplace=True)\n",
        "# change of units into tons.\n",
        "coffee_production = coffee_production * 60\n",
        "coffee_production.head(5)"
      ]
    },
    {
      "cell_type": "markdown",
      "metadata": {
        "id": "lr-7n532qCxk"
      },
      "source": [
        "After the reformat, we are going to create two dataframes from the original, one just for 2018 and the other for the total production value for each year, this to handle it better in the analysis.After the reformat, we are going to create two dataframes from the original, one just for 2018 and the other for the total production value for each year, this to handle it better in the analysis."
      ]
    },
    {
      "cell_type": "code",
      "execution_count": null,
      "metadata": {
        "id": "WOKJMn8Hp9uc"
      },
      "outputs": [],
      "source": [
        "# generation of a series of just values from 2019.\n",
        "coffee_production_2019 = coffee_production['2019'].drop('Total')\n",
        "coffee_production_2019.head(5)"
      ]
    },
    {
      "cell_type": "code",
      "execution_count": null,
      "metadata": {
        "id": "SSmEru93qJEE"
      },
      "outputs": [],
      "source": [
        "# transpose to change the year into the index and then select just the total\n",
        "coffee_production_total = coffee_production.T['Total']\n",
        "coffee_production_total.head(5)"
      ]
    },
    {
      "cell_type": "markdown",
      "metadata": {
        "id": "vnYN1jabqS7W"
      },
      "source": [
        "### Data Analysis"
      ]
    },
    {
      "cell_type": "markdown",
      "metadata": {
        "id": "6nnPMhfbqWnD"
      },
      "source": [
        "To do the analysis of the coffee production, consumption and price, we are going to generate a series of maps that show the distribution of these factors worldwide and also line charts to show how these have change through 1990 to 2019."
      ]
    },
    {
      "cell_type": "markdown",
      "metadata": {
        "id": "qZFcfIBpqeoe"
      },
      "source": [
        "Prior to the map generation, we are going to import the geojson file needed for the choropleth map and also a proportion table of the production for a better understanding of this factor.\n"
      ]
    },
    {
      "cell_type": "code",
      "execution_count": null,
      "metadata": {
        "id": "VLo7wqySqLno"
      },
      "outputs": [],
      "source": [
        "# import of the geojson\n",
        "json_file = open('/content/drive/MyDrive/Impacts of climate change on coffee/Database/countries.geojson')\n",
        "countries = json.load(json_file) "
      ]
    },
    {
      "cell_type": "code",
      "execution_count": null,
      "metadata": {
        "colab": {
          "base_uri": "https://localhost:8080/",
          "height": 186
        },
        "id": "435R2Qd0rHJ1",
        "outputId": "1ba5a543-1d66-48f4-cd10-d2e9f3d9860b"
      },
      "outputs": [
        {
          "ename": "NameError",
          "evalue": "ignored",
          "output_type": "error",
          "traceback": [
            "\u001b[0;31m---------------------------------------------------------------------------\u001b[0m",
            "\u001b[0;31mNameError\u001b[0m                                 Traceback (most recent call last)",
            "\u001b[0;32m<ipython-input-2-8eecc73561a6>\u001b[0m in \u001b[0;36m<module>\u001b[0;34m\u001b[0m\n\u001b[1;32m      1\u001b[0m \u001b[0;31m# share of each country in the total production\u001b[0m\u001b[0;34m\u001b[0m\u001b[0;34m\u001b[0m\u001b[0;34m\u001b[0m\u001b[0m\n\u001b[0;32m----> 2\u001b[0;31m \u001b[0;34m(\u001b[0m\u001b[0mcoffee_production_2019\u001b[0m\u001b[0;34m/\u001b[0m\u001b[0mcoffee_production_2019\u001b[0m\u001b[0;34m.\u001b[0m\u001b[0msum\u001b[0m\u001b[0;34m(\u001b[0m\u001b[0;34m)\u001b[0m\u001b[0;34m*\u001b[0m\u001b[0;36m100\u001b[0m\u001b[0;34m)\u001b[0m\u001b[0;34m.\u001b[0m\u001b[0msort_values\u001b[0m\u001b[0;34m(\u001b[0m\u001b[0mascending\u001b[0m\u001b[0;34m=\u001b[0m\u001b[0;32mFalse\u001b[0m\u001b[0;34m)\u001b[0m\u001b[0;34m.\u001b[0m\u001b[0mhead\u001b[0m\u001b[0;34m(\u001b[0m\u001b[0;36m10\u001b[0m\u001b[0;34m)\u001b[0m\u001b[0;34m\u001b[0m\u001b[0;34m\u001b[0m\u001b[0m\n\u001b[0m",
            "\u001b[0;31mNameError\u001b[0m: name 'coffee_production_2019' is not defined"
          ]
        }
      ],
      "source": [
        "# share of each country in the total production\n",
        "(coffee_production_2019/coffee_production_2019.sum()*100).sort_values(ascending=False).head(10)"
      ]
    },
    {
      "cell_type": "code",
      "execution_count": null,
      "metadata": {
        "id": "cvWii8FFsO6P"
      },
      "outputs": [],
      "source": [
        "  palette = plotly.colors.make_colorscale([\"#ebe1d7\",\"#f66749\",\"#9b3727\",\"#400604\"])\n",
        "\n",
        "fig = px.choropleth_mapbox(coffee_production_2019, geojson=countries, color=coffee_production_2019,\n",
        "                           locations=coffee_production_2019.index, featureidkey=\"properties.ADMIN\",\n",
        "                           center={\"lat\": 23, \"lon\": 3}, labels={'color':'Production<br>(Tons)'},\n",
        "                           mapbox_style=\"carto-positron\", zoom=.2, \n",
        "                           color_continuous_scale=palette, custom_data=[coffee_production_2019.index, coffee_production_2019],\n",
        "                           opacity=.9,  title='World Coffee Production in 2019')\n",
        "\n",
        "fig.update_layout(margin={\"b\":30,'l':30,'t':50}, width=660, height=450)\n",
        "\n",
        "fig.update_traces(\n",
        "    hovertemplate='<b>%{customdata[0]}</b>' +  \"<br>Production: %{customdata[1]:,.2f} Tons<extra></extra>\")\n",
        "\n",
        "fig.update_layout(title={\n",
        "                        'y':0.95,\n",
        "                        'x':0.5,\n",
        "                        'xanchor': 'center',\n",
        "                        'yanchor': 'top'})\n",
        "\n",
        "fig.show(renderer=\"colab\")"
      ]
    },
    {
      "cell_type": "markdown",
      "metadata": {
        "id": "Hez965RRs2oE"
      },
      "source": [
        "The first thing that leaps out on this map is that Brazil is by far the largest coffee grower in the world, producing almost 3.5 million tons of coffee in 2019, accounting for 35% of total global production.\n",
        "\n",
        "When we originally started working on this project, we suspected that Brazil was the world's largest coffee producer due to the popularity and delectability of its mixes; nevertheless, we were surprised to learn that Viet Nam was the second largest. In 2019, Vietnam produced over 1.8 million tons of coffee, accounting for 18.5% of total coffee production. Vietnam also produces one of the world's most costly coffees, Weasel Coffee, which is a coffee bean that has been chewed and digested by a civet before being roasted."
      ]
    },
    {
      "cell_type": "code",
      "execution_count": null,
      "metadata": {
        "id": "UhbKlaN4sRQI"
      },
      "outputs": [],
      "source": [
        "top10_coffee_producers = coffee_production_2019.sort_values(ascending=False).iloc[0:10]\n",
        "\n",
        "fig = px.bar(x=top10_coffee_producers.index, y=top10_coffee_producers, title='Top Coffee Producers in 2019')\n",
        "\n",
        "\n",
        "fig.update_traces(\n",
        "    hovertemplate='<b>%{y:,.2f}<extra></extra>',\n",
        "    marker={'color':\"#400604\"})\n",
        "\n",
        "fig.update_layout(margin={'r':50,'t':50})\n",
        "\n",
        "fig.update_layout(xaxis={'title':''},\n",
        "                  yaxis={'title':'Coffee Production, Tons'},\n",
        "                  title={\n",
        "                        'y':0.95,\n",
        "                        'x':0.5,\n",
        "                        'xanchor': 'center',\n",
        "                        'yanchor': 'top'},\n",
        "                  plot_bgcolor=\"#F9F9F9\",\n",
        "                  width=670,\n",
        "                  height=450)\n",
        "\n",
        "fig.show(renderer = \"colab\")"
      ]
    },
    {
      "cell_type": "code",
      "execution_count": null,
      "metadata": {
        "id": "PgSOJWCPCLdv"
      },
      "outputs": [],
      "source": [
        "top5_list = ['Brazil', 'Vietnam', 'Colombia', 'Indonesia', 'Ethiopia']\n",
        "top5_coffee_producers = coffee_production.loc[top5_list]\n",
        "top5_coffee_producers.head(5)"
      ]
    },
    {
      "cell_type": "code",
      "execution_count": null,
      "metadata": {
        "id": "8GIcutLzCxdM"
      },
      "outputs": [],
      "source": [
        "# Create figure object\n",
        "fig = go.Figure()\n",
        "\n",
        "# Add line for each row of dataframe\n",
        "for row in top5_coffee_producers.iterrows():\n",
        "    fig.add_trace(go.Scatter(x=top5_coffee_producers.columns, y=row[1].values, name=f\"{row[0]}\"))\n",
        "    \n",
        "fig.update_layout(\n",
        "    title=\"Production of Coffee from 1990 to 2019\",\n",
        "    xaxis_title=\"Year\",\n",
        "    yaxis_title=\"Coffee Production, Tons\",\n",
        "    legend_title=\"Country\")\n",
        "\n",
        "# Show figure\n",
        "fig.show(renderer='colab')"
      ]
    },
    {
      "cell_type": "markdown",
      "metadata": {
        "id": "MCGAUN2JC78J"
      },
      "source": [
        "This rate of production is thought to be unsustainable in the next years, as a so-called \"Coffee Crisis\" is expected as a result of climate change. As temperatures continue to rise, the meteorological conditions for growing coffee, particularly Arabica coffee, which requires moderate temperatures to thrive, are jeopardized."
      ]
    },
    {
      "cell_type": "code",
      "execution_count": null,
      "metadata": {
        "id": "xTkC2x6oC9J8"
      },
      "outputs": [],
      "source": []
    },
    {
      "cell_type": "markdown",
      "metadata": {
        "id": "O_kJgEyUu2iS"
      },
      "source": []
    }
  ],
  "metadata": {
    "colab": {
      "provenance": []
    },
    "kernelspec": {
      "display_name": "Python 3",
      "name": "python3"
    },
    "language_info": {
      "name": "python"
    }
  },
  "nbformat": 4,
  "nbformat_minor": 0
}
